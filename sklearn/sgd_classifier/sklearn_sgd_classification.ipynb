{
 "cells": [
  {
   "cell_type": "code",
   "execution_count": null,
   "metadata": {},
   "outputs": [],
   "source": [
    "import numpy as np\n",
    "\n",
    "# Polyaxon\n",
    "from polyaxon_client.tracking import Experiment\n",
    "\n",
    "from sklearn import datasets\n",
    "from sklearn.linear_model import SGDClassifier\n",
    "from sklearn.model_selection import cross_val_score"
   ]
  },
  {
   "cell_type": "code",
   "execution_count": null,
   "metadata": {},
   "outputs": [],
   "source": [
    "def load_data():\n",
    "    iris = datasets.load_iris()\n",
    "    return iris.data, iris.target\n",
    "\n",
    "\n",
    "def model(X, y, loss, penalty, l1_ratio, max_iter, tol):\n",
    "    classifier = SGDClassifier(\n",
    "        loss=loss,\n",
    "        penalty=penalty,\n",
    "        l1_ratio=l1_ratio,\n",
    "        max_iter=max_iter,\n",
    "        tol=tol,\n",
    "    )\n",
    "    return cross_val_score(classifier, X, y, cv=5)"
   ]
  },
  {
   "cell_type": "code",
   "execution_count": null,
   "metadata": {},
   "outputs": [],
   "source": [
    "loss_param='log'\n",
    "penalty_param='elasticnet'\n",
    "l1_ratio_param=1.0\n",
    "max_iter_param=1000\n",
    "tol_param=0.001"
   ]
  },
  {
   "cell_type": "code",
   "execution_count": null,
   "metadata": {},
   "outputs": [],
   "source": [
    "experiment = Experiment(project='sgd-classifier')\n",
    "experiment.create(framework='scikit-learn', tags=['examples'])\n",
    "experiment.log_params(loss=loss_param,\n",
    "                      penalty=penalty_param,\n",
    "                      l1_ratio=l1_ratio_param,\n",
    "                      max_iter=max_iter_param,\n",
    "                      tol=tol_param)\n",
    "\n",
    "(X, y) = load_data()"
   ]
  },
  {
   "cell_type": "code",
   "execution_count": null,
   "metadata": {},
   "outputs": [],
   "source": [
    "# Polyaxon\n",
    "experiment.log_data_ref(data=X, data_name='dataset_X')\n",
    "experiment.log_data_ref(data=y, data_name='dataset_y')\n",
    "\n",
    "accuracies = model(X=X,\n",
    "                   y=y,\n",
    "                   loss=loss_param,\n",
    "                   penalty=penalty_param,\n",
    "                   l1_ratio=l1_ratio_param,\n",
    "                   max_iter=max_iter_param,\n",
    "                   tol=tol_param)\n",
    "accuracy_mean, accuracy_std = (np.mean(accuracies), np.std(accuracies))\n",
    "print('Accuracy: {} +/- {}'.format(accuracy_mean, accuracy_std))\n",
    "\n",
    "# Polyaxon\n",
    "experiment.log_metrics(accuracy_mean=accuracy_mean, accuracy_std=accuracy_std)"
   ]
  }
 ],
 "metadata": {
  "kernelspec": {
   "display_name": "Python 3",
   "language": "python",
   "name": "python3"
  },
  "language_info": {
   "codemirror_mode": {
    "name": "ipython",
    "version": 3
   },
   "file_extension": ".py",
   "mimetype": "text/x-python",
   "name": "python",
   "nbconvert_exporter": "python",
   "pygments_lexer": "ipython3",
   "version": "3.6.8"
  }
 },
 "nbformat": 4,
 "nbformat_minor": 4
}
