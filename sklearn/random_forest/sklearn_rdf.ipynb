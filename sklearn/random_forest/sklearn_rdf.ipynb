{
 "cells": [
  {
   "cell_type": "code",
   "execution_count": null,
   "metadata": {},
   "outputs": [],
   "source": [
    "import numpy as np\n",
    "\n",
    "# Polyaxon\n",
    "from polyaxon_client.tracking import Experiment\n",
    "\n",
    "from sklearn import datasets\n",
    "from sklearn.ensemble import RandomForestClassifier\n",
    "from sklearn.model_selection import cross_val_score"
   ]
  },
  {
   "cell_type": "code",
   "execution_count": null,
   "metadata": {},
   "outputs": [],
   "source": [
    "def load_data():\n",
    "    iris = datasets.load_iris()\n",
    "    return iris.data, iris.target\n",
    "\n",
    "\n",
    "def model(X, y, n_estimators, max_features, min_samples_leaf):\n",
    "    classifier = RandomForestClassifier(\n",
    "        n_estimators=n_estimators,\n",
    "        max_features=max_features,\n",
    "        min_samples_leaf=min_samples_leaf,\n",
    "    )\n",
    "    return cross_val_score(classifier, X, y, cv=5)"
   ]
  },
  {
   "cell_type": "code",
   "execution_count": null,
   "metadata": {},
   "outputs": [],
   "source": [
    "n_estimators_param=3\n",
    "max_features_param=3\n",
    "min_samples_leaf_param=80"
   ]
  },
  {
   "cell_type": "code",
   "execution_count": null,
   "metadata": {},
   "outputs": [],
   "source": [
    "# Polyaxon\n",
    "experiment = Experiment(project='random-forest')\n",
    "experiment.create(framework='scikit-learn', tags=['examples'])\n",
    "experiment.log_params(n_estimators=n_estimators_param,\n",
    "                      max_features=max_features_param,\n",
    "                      min_samples_leaf=min_samples_leaf_param)"
   ]
  },
  {
   "cell_type": "code",
   "execution_count": null,
   "metadata": {},
   "outputs": [],
   "source": [
    "(X, y) = load_data()\n",
    "\n",
    "# Polyaxon\n",
    "experiment.log_data_ref(data=X, data_name='dataset_X')\n",
    "experiment.log_data_ref(data=y, data_name='dataset_y')\n",
    "\n",
    "accuracies = model(X=X,\n",
    "                   y=y,\n",
    "                   n_estimators=n_estimators_param,\n",
    "                   max_features=max_features_param,\n",
    "                   min_samples_leaf=min_samples_leaf_param)\n",
    "accuracy_mean, accuracy_std = (np.mean(accuracies), np.std(accuracies))\n",
    "print('Accuracy: {} +/- {}'.format(accuracy_mean, accuracy_std))\n",
    "\n",
    "# Polyaxon\n",
    "experiment.log_metrics(accuracy_mean=accuracy_mean, accuracy_std=accuracy_std)"
   ]
  }
 ],
 "metadata": {
  "kernelspec": {
   "display_name": "Python 3",
   "language": "python",
   "name": "python3"
  },
  "language_info": {
   "codemirror_mode": {
    "name": "ipython",
    "version": 3
   },
   "file_extension": ".py",
   "mimetype": "text/x-python",
   "name": "python",
   "nbconvert_exporter": "python",
   "pygments_lexer": "ipython3",
   "version": "3.6.8"
  }
 },
 "nbformat": 4,
 "nbformat_minor": 4
}
