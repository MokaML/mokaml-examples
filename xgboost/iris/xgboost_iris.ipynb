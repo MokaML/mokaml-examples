{
 "cells": [
  {
   "cell_type": "code",
   "execution_count": null,
   "metadata": {},
   "outputs": [],
   "source": [
    "import logging\n",
    "\n",
    "# Polyaxon\n",
    "from polyaxon_client.tracking import Experiment\n",
    "\n",
    "from sklearn.datasets import load_iris\n",
    "from sklearn.metrics import accuracy_score\n",
    "from sklearn.model_selection import train_test_split\n",
    "from xgboost import XGBClassifier"
   ]
  },
  {
   "cell_type": "code",
   "execution_count": null,
   "metadata": {},
   "outputs": [],
   "source": [
    "logger = logging.getLogger()\n",
    "\n",
    "\n",
    "def model(log_learning_rate, max_depth=3, num_rounds=10, min_child_weight=5):\n",
    "    model = XGBClassifier(\n",
    "        learning_rate=10 ** log_learning_rate,\n",
    "        max_depth=max_depth,\n",
    "        num_rounds=num_rounds,\n",
    "        min_child_weight=min_child_weight,\n",
    "        objective='binary:logistic',\n",
    "    )\n",
    "    model.fit(X_train, y_train)\n",
    "    pred = model.predict(X_test)\n",
    "    return accuracy_score(pred, y_test)"
   ]
  },
  {
   "cell_type": "code",
   "execution_count": null,
   "metadata": {},
   "outputs": [],
   "source": [
    "log_learning_rate_param=-3\n",
    "max_depth_param=3\n",
    "num_rounds_param=10\n",
    "min_child_weight_param=5"
   ]
  },
  {
   "cell_type": "code",
   "execution_count": null,
   "metadata": {},
   "outputs": [],
   "source": [
    "# Polyaxon\n",
    "experiment = Experiment('iris')\n",
    "experiment.create(framework='xgboost', tags=['examples'])\n",
    "experiment.log_params(log_learning_rate=log_learning_rate_param,\n",
    "                      max_depth=max_depth_param,\n",
    "                      num_rounds=num_rounds_param,\n",
    "                      min_child_weight=min_child_weight_param)\n",
    "\n",
    "iris = load_iris()\n",
    "X = iris.data\n",
    "Y = iris.target\n",
    "\n",
    "X_train, X_test, y_train, y_test = train_test_split(X, Y, test_size=0.2)\n",
    "\n",
    "# Polyaxon\n",
    "experiment.log_data_ref(data=X_train, data_name='x_train')\n",
    "experiment.log_data_ref(data=y_train, data_name='y_train')\n",
    "experiment.log_data_ref(data=X_test, data_name='X_test')\n",
    "experiment.log_data_ref(data=y_test, data_name='y_train')\n",
    "\n",
    "logger.info('Train model...')\n",
    "accuracy = model(log_learning_rate=log_learning_rate_param,\n",
    "                    max_depth=max_depth_param,\n",
    "                    num_rounds=num_rounds_param,\n",
    "                    min_child_weight=min_child_weight_param)\n",
    "experiment.log_metrics(accuracy=accuracy)"
   ]
  }
 ],
 "metadata": {
  "kernelspec": {
   "display_name": "Python 3",
   "language": "python",
   "name": "python3"
  },
  "language_info": {
   "codemirror_mode": {
    "name": "ipython",
    "version": 3
   },
   "file_extension": ".py",
   "mimetype": "text/x-python",
   "name": "python",
   "nbconvert_exporter": "python",
   "pygments_lexer": "ipython3",
   "version": "3.6.8"
  }
 },
 "nbformat": 4,
 "nbformat_minor": 4
}
