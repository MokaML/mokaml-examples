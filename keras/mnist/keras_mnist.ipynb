{
 "cells": [
  {
   "cell_type": "code",
   "execution_count": null,
   "metadata": {},
   "outputs": [],
   "source": [
    "import argparse\n",
    "\n",
    "from keras import utils\n",
    "from keras import optimizers\n",
    "from keras.datasets import mnist\n",
    "from keras.layers import Dense, Conv2D, Dropout, Flatten, MaxPooling2D\n",
    "from keras.models import Sequential\n",
    "\n",
    "# Polyaxon\n",
    "from polyaxon_client.tracking import Experiment"
   ]
  },
  {
   "cell_type": "code",
   "execution_count": null,
   "metadata": {},
   "outputs": [],
   "source": [
    "OPTIMIZERS = {\n",
    "    'adam': optimizers.Adam,\n",
    "    'rmsprop': optimizers.RMSprop,\n",
    "    'sgd': optimizers.SGD,\n",
    "}"
   ]
  },
  {
   "cell_type": "code",
   "execution_count": null,
   "metadata": {},
   "outputs": [],
   "source": [
    "def transform_data(x_train, y_train, x_test, y_test):\n",
    "    x_train = x_train.reshape(x_train.shape[0], 28, 28, 1)\n",
    "    x_train = x_train.astype('float32') / 255\n",
    "\n",
    "    x_test = x_test.reshape(x_test.shape[0], 28, 28, 1)\n",
    "    x_test = x_test.astype('float32') / 255\n",
    "\n",
    "    y_train = utils.to_categorical(y_train, num_classes=10)\n",
    "    y_test = utils.to_categorical(y_test, num_classes=10)\n",
    "\n",
    "    return x_train, y_train, x_test, y_test\n",
    "\n",
    "\n",
    "def train(conv1_size, conv2_size, dropout, hidden1_size, optimizer, log_learning_rate, epochs):\n",
    "    model = Sequential()\n",
    "    model.add(Conv2D(filters=conv1_size,\n",
    "                     kernel_size=(3, 3),\n",
    "                     activation='relu',\n",
    "                     input_shape=x_train.shape[1:]))\n",
    "    model.add(Conv2D(filters=conv2_size,\n",
    "                     kernel_size=(3, 3),\n",
    "                     activation='relu'))\n",
    "    model.add(MaxPooling2D(pool_size=(2, 2)))\n",
    "    model.add(Dropout(dropout))\n",
    "    model.add(Flatten())\n",
    "    model.add(Dense(hidden1_size, activation='relu'))\n",
    "    model.add(Dense(10, activation='softmax'))\n",
    "    model.compile(\n",
    "        optimizer=OPTIMIZERS[optimizer](lr=10 ** log_learning_rate),\n",
    "        loss='categorical_crossentropy',\n",
    "        metrics=['accuracy'],\n",
    "    )\n",
    "\n",
    "    model.fit(x_train, y_train, epochs=epochs, batch_size=100)\n",
    "\n",
    "    return model.evaluate(x_test, y_test)[1]"
   ]
  },
  {
   "cell_type": "code",
   "execution_count": null,
   "metadata": {},
   "outputs": [],
   "source": [
    "conv1_size_param=32\n",
    "conv2_size_param=64\n",
    "dropout_param=0.8\n",
    "hidden1_size_param=500\n",
    "optimizer_param='adam'\n",
    "log_learning_rate_param=-3\n",
    "epochs_param=1"
   ]
  },
  {
   "cell_type": "code",
   "execution_count": null,
   "metadata": {},
   "outputs": [],
   "source": [
    "# Polyaxon\n",
    "experiment = Experiment(project='mnist')\n",
    "experiment.create(tags=['keras'])\n",
    "experiment.log_params(conv1_size=conv1_size_param,\n",
    "                      conv2_size=conv2_size_param,\n",
    "                      dropout=dropout_param,\n",
    "                      hidden1_size=hidden1_size_param,\n",
    "                      optimizer=optimizer_param,\n",
    "                      log_learning_rate=log_learning_rate_param,\n",
    "                      epochs=epochs_param)\n",
    "\n",
    "(x_train, y_train), (x_test, y_test) = mnist.load_data()\n",
    "\n",
    "# Polyaxon\n",
    "experiment.log_data_ref(data=x_train, data_name='x_train')\n",
    "experiment.log_data_ref(data=y_train, data_name='y_train')\n",
    "experiment.log_data_ref(data=x_test, data_name='x_test')\n",
    "experiment.log_data_ref(data=y_test, data_name='y_test')\n",
    "\n",
    "x_train, y_train, x_test, y_test = transform_data(x_train, y_train, x_test, y_test)\n",
    "accuracy = train(conv1_size=conv1_size_param,\n",
    "                  conv2_size=conv2_size_param,\n",
    "                  dropout=dropout_param,\n",
    "                  hidden1_size=hidden1_size_param,\n",
    "                  optimizer=optimizer_param,\n",
    "                  log_learning_rate=log_learning_rate_param,\n",
    "                  epochs=epochs_param)\n",
    "\n",
    "# Polyaxon\n",
    "experiment.log_metrics(accuracy=accuracy)"
   ]
  }
 ],
 "metadata": {
  "kernelspec": {
   "display_name": "Python 3",
   "language": "python",
   "name": "python3"
  },
  "language_info": {
   "codemirror_mode": {
    "name": "ipython",
    "version": 3
   },
   "file_extension": ".py",
   "mimetype": "text/x-python",
   "name": "python",
   "nbconvert_exporter": "python",
   "pygments_lexer": "ipython3",
   "version": "3.6.8"
  }
 },
 "nbformat": 4,
 "nbformat_minor": 4
}
